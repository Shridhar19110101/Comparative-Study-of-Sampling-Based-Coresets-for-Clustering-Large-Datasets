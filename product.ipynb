{
 "cells": [
  {
   "cell_type": "markdown",
   "id": "0d1e1b1a",
   "metadata": {},
   "source": [
    "Data understanding and cleaning"
   ]
  },
  {
   "cell_type": "code",
   "execution_count": 1,
   "metadata": {},
   "outputs": [
    {
     "data": {
      "text/html": [
       "<div>\n",
       "<style scoped>\n",
       "    .dataframe tbody tr th:only-of-type {\n",
       "        vertical-align: middle;\n",
       "    }\n",
       "\n",
       "    .dataframe tbody tr th {\n",
       "        vertical-align: top;\n",
       "    }\n",
       "\n",
       "    .dataframe thead th {\n",
       "        text-align: right;\n",
       "    }\n",
       "</style>\n",
       "<table border=\"1\" class=\"dataframe\">\n",
       "  <thead>\n",
       "    <tr style=\"text-align: right;\">\n",
       "      <th></th>\n",
       "      <th>ProductID</th>\n",
       "      <th>ProductTitle</th>\n",
       "      <th>VendorID</th>\n",
       "      <th>ClusterID</th>\n",
       "      <th>ClusterLabel</th>\n",
       "      <th>CategoryID</th>\n",
       "      <th>CategoryLabel</th>\n",
       "    </tr>\n",
       "  </thead>\n",
       "  <tbody>\n",
       "    <tr>\n",
       "      <th>0</th>\n",
       "      <td>1</td>\n",
       "      <td>amd ryzen 5 1600 box epexergastis me wraith sp...</td>\n",
       "      <td>1030</td>\n",
       "      <td>1</td>\n",
       "      <td>AMD Ryzen 5 1600 Box</td>\n",
       "      <td>696</td>\n",
       "      <td>CPUs</td>\n",
       "    </tr>\n",
       "    <tr>\n",
       "      <th>1</th>\n",
       "      <td>2</td>\n",
       "      <td>amd ryzen 5 1600</td>\n",
       "      <td>3964</td>\n",
       "      <td>1</td>\n",
       "      <td>AMD Ryzen 5 1600 Box</td>\n",
       "      <td>696</td>\n",
       "      <td>CPUs</td>\n",
       "    </tr>\n",
       "    <tr>\n",
       "      <th>2</th>\n",
       "      <td>3</td>\n",
       "      <td>amd ryzen 5 1600 box pliromi ke se eos 36 dosis</td>\n",
       "      <td>4814</td>\n",
       "      <td>1</td>\n",
       "      <td>AMD Ryzen 5 1600 Box</td>\n",
       "      <td>696</td>\n",
       "      <td>CPUs</td>\n",
       "    </tr>\n",
       "    <tr>\n",
       "      <th>3</th>\n",
       "      <td>4</td>\n",
       "      <td>amd ryzen 5 1600 yd1600bbaebox</td>\n",
       "      <td>4835</td>\n",
       "      <td>1</td>\n",
       "      <td>AMD Ryzen 5 1600 Box</td>\n",
       "      <td>696</td>\n",
       "      <td>CPUs</td>\n",
       "    </tr>\n",
       "    <tr>\n",
       "      <th>4</th>\n",
       "      <td>5</td>\n",
       "      <td>amd ryzen 5 1600 box yd1600bbaebox</td>\n",
       "      <td>2976</td>\n",
       "      <td>1</td>\n",
       "      <td>AMD Ryzen 5 1600 Box</td>\n",
       "      <td>696</td>\n",
       "      <td>CPUs</td>\n",
       "    </tr>\n",
       "  </tbody>\n",
       "</table>\n",
       "</div>"
      ],
      "text/plain": [
       "   ProductID                                       ProductTitle  VendorID  \\\n",
       "0          1  amd ryzen 5 1600 box epexergastis me wraith sp...      1030   \n",
       "1          2                                   amd ryzen 5 1600      3964   \n",
       "2          3    amd ryzen 5 1600 box pliromi ke se eos 36 dosis      4814   \n",
       "3          4                     amd ryzen 5 1600 yd1600bbaebox      4835   \n",
       "4          5                 amd ryzen 5 1600 box yd1600bbaebox      2976   \n",
       "\n",
       "   ClusterID          ClusterLabel  CategoryID CategoryLabel  \n",
       "0          1  AMD Ryzen 5 1600 Box         696          CPUs  \n",
       "1          1  AMD Ryzen 5 1600 Box         696          CPUs  \n",
       "2          1  AMD Ryzen 5 1600 Box         696          CPUs  \n",
       "3          1  AMD Ryzen 5 1600 Box         696          CPUs  \n",
       "4          1  AMD Ryzen 5 1600 Box         696          CPUs  "
      ]
     },
     "execution_count": 1,
     "metadata": {},
     "output_type": "execute_result"
    }
   ],
   "source": [
    "import numpy as np\n",
    "import pandas as pd\n",
    "import time\n",
    "import matplotlib.pyplot as plt\n",
    "from sklearn.preprocessing import LabelEncoder\n",
    "from sklearn.cluster import KMeans\n",
    "from coresets import *\n",
    "from sklearn.preprocessing import StandardScaler\n",
    "\n",
    "\n",
    "\n",
    "#reading data\n",
    "\n",
    "df=pd.read_csv(\"product.csv\")\n",
    "df.head()\n",
    "\n"
   ]
  },
  {
   "cell_type": "code",
   "execution_count": 2,
   "id": "f2f46820",
   "metadata": {},
   "outputs": [
    {
     "data": {
      "text/plain": [
       "(238170, 7)"
      ]
     },
     "execution_count": 2,
     "metadata": {},
     "output_type": "execute_result"
    }
   ],
   "source": [
    "# shape of data\n",
    "\n",
    "df.shape"
   ]
  },
  {
   "cell_type": "code",
   "execution_count": 3,
   "id": "ba396180",
   "metadata": {},
   "outputs": [
    {
     "name": "stdout",
     "output_type": "stream",
     "text": [
      "<class 'pandas.core.frame.DataFrame'>\n",
      "RangeIndex: 238170 entries, 0 to 238169\n",
      "Data columns (total 5 columns):\n",
      " #   Column         Non-Null Count   Dtype \n",
      "---  ------         --------------   ----- \n",
      " 0   ProductID      238170 non-null  int64 \n",
      " 1   VendorID       238170 non-null  int64 \n",
      " 2   ClusterID      238170 non-null  int64 \n",
      " 3   CategoryID     238170 non-null  int64 \n",
      " 4   CategoryLabel  238170 non-null  object\n",
      "dtypes: int64(4), object(1)\n",
      "memory usage: 9.1+ MB\n"
     ]
    }
   ],
   "source": [
    "\n",
    "\n",
    "# dropping Production Title and Cluster label (because of they do not hold value id clustering)\n",
    "df=df.drop([\"ProductTitle\", \"ClusterLabel\"],axis=1)\n",
    "\n",
    "# data info\n",
    "\n",
    "df.info()"
   ]
  },
  {
   "cell_type": "code",
   "execution_count": 4,
   "id": "a49c3812",
   "metadata": {},
   "outputs": [
    {
     "data": {
      "text/plain": [
       "ProductID        0\n",
       "VendorID         0\n",
       "ClusterID        0\n",
       "CategoryID       0\n",
       "CategoryLabel    0\n",
       "dtype: int64"
      ]
     },
     "execution_count": 4,
     "metadata": {},
     "output_type": "execute_result"
    }
   ],
   "source": [
    "# checking null values\n",
    "df.isnull().sum()\n",
    "\n",
    "# # dropping null values\n",
    "# df=df.dropna()\n",
    "# df.shape\n"
   ]
  },
  {
   "cell_type": "code",
   "execution_count": 5,
   "id": "4c833f24",
   "metadata": {},
   "outputs": [
    {
     "data": {
      "text/html": [
       "<div>\n",
       "<style scoped>\n",
       "    .dataframe tbody tr th:only-of-type {\n",
       "        vertical-align: middle;\n",
       "    }\n",
       "\n",
       "    .dataframe tbody tr th {\n",
       "        vertical-align: top;\n",
       "    }\n",
       "\n",
       "    .dataframe thead th {\n",
       "        text-align: right;\n",
       "    }\n",
       "</style>\n",
       "<table border=\"1\" class=\"dataframe\">\n",
       "  <thead>\n",
       "    <tr style=\"text-align: right;\">\n",
       "      <th></th>\n",
       "      <th>ProductID</th>\n",
       "      <th>VendorID</th>\n",
       "      <th>ClusterID</th>\n",
       "      <th>CategoryID</th>\n",
       "    </tr>\n",
       "  </thead>\n",
       "  <tbody>\n",
       "    <tr>\n",
       "      <th>count</th>\n",
       "      <td>238170.000000</td>\n",
       "      <td>238170.000000</td>\n",
       "      <td>238170.000000</td>\n",
       "      <td>238170.000000</td>\n",
       "    </tr>\n",
       "    <tr>\n",
       "      <th>mean</th>\n",
       "      <td>211995.806999</td>\n",
       "      <td>2135.138309</td>\n",
       "      <td>64573.760906</td>\n",
       "      <td>600.120175</td>\n",
       "    </tr>\n",
       "    <tr>\n",
       "      <th>std</th>\n",
       "      <td>122574.585431</td>\n",
       "      <td>1297.857629</td>\n",
       "      <td>32328.279896</td>\n",
       "      <td>510.708429</td>\n",
       "    </tr>\n",
       "    <tr>\n",
       "      <th>min</th>\n",
       "      <td>1.000000</td>\n",
       "      <td>7.000000</td>\n",
       "      <td>1.000000</td>\n",
       "      <td>354.000000</td>\n",
       "    </tr>\n",
       "    <tr>\n",
       "      <th>25%</th>\n",
       "      <td>93312.250000</td>\n",
       "      <td>945.000000</td>\n",
       "      <td>47820.000000</td>\n",
       "      <td>354.000000</td>\n",
       "    </tr>\n",
       "    <tr>\n",
       "      <th>50%</th>\n",
       "      <td>225734.500000</td>\n",
       "      <td>2164.000000</td>\n",
       "      <td>69515.500000</td>\n",
       "      <td>355.000000</td>\n",
       "    </tr>\n",
       "    <tr>\n",
       "      <th>75%</th>\n",
       "      <td>315016.750000</td>\n",
       "      <td>2848.000000</td>\n",
       "      <td>88808.000000</td>\n",
       "      <td>355.000000</td>\n",
       "    </tr>\n",
       "    <tr>\n",
       "      <th>max</th>\n",
       "      <td>482296.000000</td>\n",
       "      <td>5346.000000</td>\n",
       "      <td>124631.000000</td>\n",
       "      <td>2143.000000</td>\n",
       "    </tr>\n",
       "  </tbody>\n",
       "</table>\n",
       "</div>"
      ],
      "text/plain": [
       "           ProductID       VendorID      ClusterID     CategoryID\n",
       "count  238170.000000  238170.000000  238170.000000  238170.000000\n",
       "mean   211995.806999    2135.138309   64573.760906     600.120175\n",
       "std    122574.585431    1297.857629   32328.279896     510.708429\n",
       "min         1.000000       7.000000       1.000000     354.000000\n",
       "25%     93312.250000     945.000000   47820.000000     354.000000\n",
       "50%    225734.500000    2164.000000   69515.500000     355.000000\n",
       "75%    315016.750000    2848.000000   88808.000000     355.000000\n",
       "max    482296.000000    5346.000000  124631.000000    2143.000000"
      ]
     },
     "execution_count": 5,
     "metadata": {},
     "output_type": "execute_result"
    }
   ],
   "source": [
    "#checking for ouliers\n",
    "df.describe()"
   ]
  },
  {
   "cell_type": "code",
   "execution_count": 6,
   "id": "82b5f096",
   "metadata": {},
   "outputs": [
    {
     "name": "stdout",
     "output_type": "stream",
     "text": [
      "Unique Values of Productid: [     1      2      3 ... 482291 482293 482296]\n",
      "Unique Values of Vendorid: [1030 3964 4814 4835 2976 3427 1996 1712 3054  282 4691 1840  251  336\n",
      "   54 4455 3032    7 4223 4951 2946  101 1509 4657  299 3331  891 3021\n",
      "  670 4412    9  966 2164 2723  246  956   18 4769 2863 2105 2660 1761\n",
      " 5082 2004 1116  514 4635 4089  538 2786 3003 3615 3050 4957 4925 2458\n",
      " 1550 3352 1521 4383 2914  708 2349 4796  322 3637  569 5215 1614 1830\n",
      "  394 2907 2684 3686 4002  923 4567 3798 1837  755 5207 2662  416 4511\n",
      " 2032 2870 4744 4599 4575 3121 1294 2749 2986 3252 1388 1515 3749 2461\n",
      "  628 4306 3240 1021 1404  655 1084  887 3970 2063 2036 2165 1306 4870\n",
      " 1308 1636 1123  649 1618 2470 2189 1968  356 3229  303 2780 2695 3405\n",
      " 1489 2052 1286 1612 2564 3954 1951 1173  379 2652  452 2511 2049 1287\n",
      " 3077 3348 2602 3118 1277 2441 3586 1095 1894 3194 3230  349 4848 2475\n",
      " 2542  606 2059 2788 1307  532 3421 2376 2398 4928 3098 1966 2300  973\n",
      " 3623 1351  508 2451 2055 5076 2919 3673 1982 2344 2358 1615 1899 5019\n",
      " 1358 3211 1366 5022 5239 1354 2469 2613 1978  816 2534 2346 4051  745\n",
      " 3402 1543 1862 2507  457 1206 2981 2181 4854 2776  316  523 1391 1138\n",
      " 1161 3716 3766 3891 4818  619 2058 2590 3359  327  441 3715 1582 3327\n",
      "  425 2136 2261 4406  536 3634 4280 2610 1545  950 3006  946 1918 1650\n",
      " 4700 4591 4561 2462 2026 4881 1113  912 3281  461 2018 2077 4812 1891\n",
      " 2226 1580 3757 4979 3292 1327 2354 5193 1283  922 1600 2092 2455 2266\n",
      " 2520 2420 1355 4797 1981 4594 4767 3603 5196 1028 2512 5011 2984 3668\n",
      " 2259 2552 4459 2521 4692 4079 1895 3963 2481  953 5010 2071 3407 4914\n",
      " 1589 3478 4840 2027 1960 3262 4028 2803 1044 1352 2172 4169 4716  934\n",
      " 2498  990 4203 1256 2497 2789 3569 1847 2956 1896 4832 3202 2048 3788\n",
      " 2180  866 1779 3579 5098  777 3526 4373 5066 5106 2502 4535 1994 1706\n",
      " 3450 1868 5033 2003 3831 2486 1269 1736 1080 3602 1843 3266 1743 1853\n",
      " 3512 1646 3374 5086 1111 4145 3127 1455 4943 3228 2966 4791 4263 1127\n",
      " 1748 2737 3848 3470 4115 4825 3116 2848 3371  945 3411 4013 4003 4085\n",
      " 3232 2064 2676 2518 2277 4025 4931 1965 2483 2661 3270  728 2476 2515\n",
      " 4001 1425 3220 2692 1341 2820 2955 5015 1403  555 2761 3112 5165 4507\n",
      " 2546 3333 1408 5213 1199  727 4974 4532 1820 4926 3632 4180 3821 4602\n",
      "  702 3076 1125 3815 4850 1926 2456 3439 1311 1885 2412 4304 4909  395\n",
      " 4856 3218 3996 4092 4184 1601 2381 2769  902 4795  671 4082 3774 3334\n",
      " 2812 2167 4073 2338 2901 3338 4325 3425 1448 1091 2928 3888 2673 4158\n",
      " 3908 3088 3699 5079  377 2665 2603 4467 2436 2832 4351 3643 3452 2713\n",
      " 2274  353 3389  711 3696 4165 5135 3156 2611 4513 4661 3344 3973 2491\n",
      " 3461 3053 4121 2862 4536 1085 4029 4993 2360  695 2851 1417 3982 2973\n",
      " 3094 3578 4378 4708 1794 4067 3506 2215  635 3892 4328 4444 4387 4697\n",
      " 3607 3561 3640  451 1126 3016 2856  821 2808 3811 3829 3612 4684 4289\n",
      " 4873 3351 4116 5138 4057 5163 2933  826 4012 3175  858 3865 2336 3593\n",
      " 3307 1000 3269 2134 2645  552  403  122 1122  507 1065  790  522 4432\n",
      " 2249   40 1816   66  475 4078 2843  477 4771  977 3489 1959 1915 1368\n",
      "  985 4093 3191 4946 4292 2195  859 1171 1823 3777  643 4381  446 2686\n",
      " 2386 2771  811 1445 5222 3311 4538 1506 3056 1090 3325 2276 3004 2089\n",
      " 5204 1990 2115 5346  932 4836 4720 1290 1564 3361 2217 2413 4148 2978\n",
      " 3697  781 3246 2864 3143 3981 3001 3786 3952 4618 3685 3484 3020 3629\n",
      " 5332 3343 2516 2304 3090 4778 2911 2482 3659 1663 4994 3460 2898 3832\n",
      " 4569 1807 4677 5069 5295 2299 4135 2388]\n",
      "Unique Values of Clusterid: [     1      2      3 ... 124629 124630 124631]\n",
      "Unique Values of Categoryid: [ 696  810  927  929 2143  355  354 2055 2056 2057 2058 1695]\n",
      "Unique Values of Categorylabel: ['CPUs' 'Televisions' 'Refrigerators' 'Cookers & Ovens'\n",
      " 'Home Air Conditioners - Inverters' \"Women's Watches\" \"Men's Watches\"\n",
      " 'DSLR Cameras' 'Compact Cameras' 'Mirrorless Cameras' 'Analog Cameras'\n",
      " 'Car & Boat Batteries']\n"
     ]
    }
   ],
   "source": [
    "# checking unique values\n",
    "\n",
    "for i in df.columns:\n",
    "    print(f'Unique Values of {i.title()}: {df[i].unique()}')\n"
   ]
  },
  {
   "cell_type": "code",
   "execution_count": 7,
   "id": "598107fc",
   "metadata": {},
   "outputs": [
    {
     "data": {
      "text/html": [
       "<div>\n",
       "<style scoped>\n",
       "    .dataframe tbody tr th:only-of-type {\n",
       "        vertical-align: middle;\n",
       "    }\n",
       "\n",
       "    .dataframe tbody tr th {\n",
       "        vertical-align: top;\n",
       "    }\n",
       "\n",
       "    .dataframe thead th {\n",
       "        text-align: right;\n",
       "    }\n",
       "</style>\n",
       "<table border=\"1\" class=\"dataframe\">\n",
       "  <thead>\n",
       "    <tr style=\"text-align: right;\">\n",
       "      <th></th>\n",
       "      <th>ProductID</th>\n",
       "      <th>VendorID</th>\n",
       "      <th>ClusterID</th>\n",
       "      <th>CategoryID</th>\n",
       "      <th>CategoryLabel</th>\n",
       "    </tr>\n",
       "  </thead>\n",
       "  <tbody>\n",
       "    <tr>\n",
       "      <th>0</th>\n",
       "      <td>1.0</td>\n",
       "      <td>1030.0</td>\n",
       "      <td>1.0</td>\n",
       "      <td>696.0</td>\n",
       "      <td>1.0</td>\n",
       "    </tr>\n",
       "    <tr>\n",
       "      <th>1</th>\n",
       "      <td>2.0</td>\n",
       "      <td>3964.0</td>\n",
       "      <td>1.0</td>\n",
       "      <td>696.0</td>\n",
       "      <td>1.0</td>\n",
       "    </tr>\n",
       "    <tr>\n",
       "      <th>2</th>\n",
       "      <td>3.0</td>\n",
       "      <td>4814.0</td>\n",
       "      <td>1.0</td>\n",
       "      <td>696.0</td>\n",
       "      <td>1.0</td>\n",
       "    </tr>\n",
       "    <tr>\n",
       "      <th>3</th>\n",
       "      <td>4.0</td>\n",
       "      <td>4835.0</td>\n",
       "      <td>1.0</td>\n",
       "      <td>696.0</td>\n",
       "      <td>1.0</td>\n",
       "    </tr>\n",
       "    <tr>\n",
       "      <th>4</th>\n",
       "      <td>5.0</td>\n",
       "      <td>2976.0</td>\n",
       "      <td>1.0</td>\n",
       "      <td>696.0</td>\n",
       "      <td>1.0</td>\n",
       "    </tr>\n",
       "    <tr>\n",
       "      <th>5</th>\n",
       "      <td>6.0</td>\n",
       "      <td>3427.0</td>\n",
       "      <td>1.0</td>\n",
       "      <td>696.0</td>\n",
       "      <td>1.0</td>\n",
       "    </tr>\n",
       "    <tr>\n",
       "      <th>6</th>\n",
       "      <td>7.0</td>\n",
       "      <td>1996.0</td>\n",
       "      <td>1.0</td>\n",
       "      <td>696.0</td>\n",
       "      <td>1.0</td>\n",
       "    </tr>\n",
       "    <tr>\n",
       "      <th>7</th>\n",
       "      <td>8.0</td>\n",
       "      <td>1712.0</td>\n",
       "      <td>1.0</td>\n",
       "      <td>696.0</td>\n",
       "      <td>1.0</td>\n",
       "    </tr>\n",
       "    <tr>\n",
       "      <th>8</th>\n",
       "      <td>9.0</td>\n",
       "      <td>3054.0</td>\n",
       "      <td>1.0</td>\n",
       "      <td>696.0</td>\n",
       "      <td>1.0</td>\n",
       "    </tr>\n",
       "    <tr>\n",
       "      <th>9</th>\n",
       "      <td>10.0</td>\n",
       "      <td>282.0</td>\n",
       "      <td>1.0</td>\n",
       "      <td>696.0</td>\n",
       "      <td>1.0</td>\n",
       "    </tr>\n",
       "  </tbody>\n",
       "</table>\n",
       "</div>"
      ],
      "text/plain": [
       "   ProductID  VendorID  ClusterID  CategoryID  CategoryLabel\n",
       "0        1.0    1030.0        1.0       696.0            1.0\n",
       "1        2.0    3964.0        1.0       696.0            1.0\n",
       "2        3.0    4814.0        1.0       696.0            1.0\n",
       "3        4.0    4835.0        1.0       696.0            1.0\n",
       "4        5.0    2976.0        1.0       696.0            1.0\n",
       "5        6.0    3427.0        1.0       696.0            1.0\n",
       "6        7.0    1996.0        1.0       696.0            1.0\n",
       "7        8.0    1712.0        1.0       696.0            1.0\n",
       "8        9.0    3054.0        1.0       696.0            1.0\n",
       "9       10.0     282.0        1.0       696.0            1.0"
      ]
     },
     "execution_count": 7,
     "metadata": {},
     "output_type": "execute_result"
    }
   ],
   "source": [
    "\n",
    "\n",
    "le = LabelEncoder()\n",
    "\n",
    "#changing object to float type\n",
    "\n",
    "x=df\n",
    "# encoder \n",
    "\n",
    "\n",
    "x['CategoryLabel'] = le.fit_transform(x['CategoryLabel'])\n",
    "\n",
    "\n",
    "x=x.astype(float)\n",
    "x.head(10)\n",
    "# for i in x.columns:\n",
    "#   print(f'Unique Values of {i.title()}: {x[i].unique()}')\n"
   ]
  },
  {
   "cell_type": "code",
   "execution_count": 8,
   "id": "52cdeb65",
   "metadata": {},
   "outputs": [
    {
     "name": "stdout",
     "output_type": "stream",
     "text": [
      "<class 'pandas.core.frame.DataFrame'>\n",
      "RangeIndex: 238170 entries, 0 to 238169\n",
      "Data columns (total 5 columns):\n",
      " #   Column            Non-Null Count   Dtype  \n",
      "---  ------            --------------   -----  \n",
      " 0   (ProductID,)      238170 non-null  float64\n",
      " 1   (VendorID,)       238170 non-null  float64\n",
      " 2   (ClusterID,)      238170 non-null  float64\n",
      " 3   (CategoryID,)     238170 non-null  float64\n",
      " 4   (CategoryLabel,)  238170 non-null  float64\n",
      "dtypes: float64(5)\n",
      "memory usage: 9.1 MB\n"
     ]
    }
   ],
   "source": [
    "# scaling the data usinf min max scaler\n",
    "y=x\n",
    "cols = y.columns\n",
    "ms = StandardScaler()\n",
    "\n",
    "y = ms.fit_transform(y)\n",
    "y = pd.DataFrame(y, columns=[cols])\n",
    "y.info()"
   ]
  },
  {
   "cell_type": "code",
   "execution_count": 9,
   "id": "9a1b79d1",
   "metadata": {},
   "outputs": [
    {
     "name": "stdout",
     "output_type": "stream",
     "text": [
      "{100: [8618.073381408798, 0.938899507522583], 200: [3220.346210732698, 2.0630380725860595]}\n"
     ]
    }
   ],
   "source": [
    "# applying kmeans on full data\n",
    "\n",
    "cost_full={}\n",
    "\n",
    "cost=[]\n",
    "time_=[]\n",
    "\n",
    "for i in range(25):\n",
    "  t0= time.time()\n",
    "  kmeans = KMeans(n_clusters=100, init='k-means++', max_iter=5,n_init=1).fit(y)\n",
    "  t1=time.time()-t0\n",
    "  cost.append(kmeans.inertia_)\n",
    "  time_.append(t1)\n",
    "\n",
    "cost_full[100]= [sum(cost)/len(cost), sum(time_)/len(time_)]\n",
    "\n",
    "# for k=500\n",
    "cost=[]\n",
    "time_=[]\n",
    "for i in range(25):\n",
    "   t0= time.time()\n",
    "   kmeans = KMeans(n_clusters=200, init='k-means++', max_iter=5,n_init=1).fit(y)\n",
    "   t1=time.time()-t0\n",
    "   cost.append(kmeans.inertia_)\n",
    "   time_.append(t1)\n",
    "\n",
    "cost_full[200]= [sum(cost)/len(cost), sum(time_)/len(time_)]\n",
    "\n",
    "\n",
    "print(cost_full)\n",
    "\n",
    " \n"
   ]
  },
  {
   "cell_type": "code",
   "execution_count": 10,
   "id": "bfe957e9",
   "metadata": {},
   "outputs": [
    {
     "name": "stdout",
     "output_type": "stream",
     "text": [
      "{(100, 1000): [6938.22111097453, 0.032934980392456056], (100, 2000): [8051.723745740508, 0.04075536727905273], (100, 3000): [8391.171968134591, 0.04841935157775879], (100, 4000): [8580.063542982489, 0.04764468193054199], (100, 5000): [8758.196892076905, 0.05287947654724121], (200, 1000): [2031.502469097708, 0.05578824996948242], (200, 2000): [2632.0682322877324, 0.07228450775146485], (200, 3000): [2848.613135623642, 0.08049983024597168], (200, 4000): [3005.692698123546, 0.09548099517822266], (200, 5000): [3071.4259734044363, 0.10035856246948242]}\n"
     ]
    }
   ],
   "source": [
    "# applying k-means on lightweight coreset\n",
    "\n",
    "from sklearn.cluster import KMeans\n",
    "\n",
    "centers=[100,200]\n",
    "subset_le=[1000,2000,3000,4000,5000]\n",
    "cost_lightweight={}\n",
    "\n",
    "for center in centers:\n",
    "    for lenth in subset_le:\n",
    "        cost=[]\n",
    "        time_=[]\n",
    "        \n",
    "        for i in range(25):\n",
    "            t0= time.time()\n",
    "            y_coreset, y_weights=lightweight(y,lenth)\n",
    "            kmeans = KMeans(n_clusters=center, init='k-means++', max_iter=5,n_init=1).fit(y_coreset, sample_weight=y_weights)\n",
    "            t1=time.time()-t0\n",
    "            cost.append(kmeans.inertia_)\n",
    "            time_.append(t1)\n",
    "        \n",
    "        cost_lightweight[(center,lenth)]= [sum(cost)/len(cost), sum(time_)/len(time_)]\n",
    "\n",
    "print(cost_lightweight)\n",
    "\n",
    "\n"
   ]
  },
  {
   "cell_type": "code",
   "execution_count": 11,
   "id": "50b75736",
   "metadata": {},
   "outputs": [
    {
     "name": "stdout",
     "output_type": "stream",
     "text": [
      "{(100, 1000): [6352.785554254063, 0.029295682907104492], (100, 2000): [7546.169522273101, 0.03614971160888672], (100, 3000): [7885.094678195744, 0.043176708221435545], (100, 4000): [7988.713944049752, 0.05154719352722168], (100, 5000): [8174.706613764234, 0.05253619194030762], (200, 1000): [1843.4810268160318, 0.061646127700805665], (200, 2000): [2424.513031672886, 0.0812168312072754], (200, 3000): [2688.739258627601, 0.07414590835571289], (200, 4000): [2801.9380031053615, 0.08974427223205567], (200, 5000): [2891.540971345848, 0.09986542701721192]}\n"
     ]
    }
   ],
   "source": [
    "# applying kmeans on uniform coreset\n",
    "centers=[100,200]\n",
    "subset_le=[1000,2000,3000,4000,5000]\n",
    "cost_uniform={}\n",
    "\n",
    "for center in centers:\n",
    "    for lenth in subset_le:\n",
    "        cost=[]\n",
    "        time_=[]\n",
    "        for i in range(25):\n",
    "            t0= time.time()\n",
    "            y_coreset, y_weights=uniform(y,lenth)\n",
    "            kmeans = KMeans(n_clusters=center, init='k-means++', max_iter=5, n_init=1).fit(y_coreset, sample_weight=y_weights)\n",
    "            t1=time.time()-t0  \n",
    "            cost.append(kmeans.inertia_)\n",
    "            time_.append(t1)\n",
    "        cost_uniform[(center,lenth)]= [sum(cost)/len(cost), sum(time_)/len(time_)]\n",
    "\n",
    "\n",
    "print(cost_uniform)\n"
   ]
  },
  {
   "cell_type": "code",
   "execution_count": 12,
   "id": "e3410a83",
   "metadata": {},
   "outputs": [],
   "source": [
    "x_axis=[1000,2000,3000,4000,5000]\n",
    "y_axis_100_light=[]\n",
    "y_axis_200_light=[]\n",
    "y_axis_100_uni=[]\n",
    "y_axis_200_uni=[]\n",
    "\n",
    "for key,value in cost_lightweight.items():\n",
    "    if key[0]==100:\n",
    "        y_axis_100_light.append(value[0])\n",
    "    else:\n",
    "        y_axis_200_light.append(value[0])\n",
    "\n",
    "for key,value in cost_uniform.items():\n",
    "    if key[0]==100:\n",
    "        y_axis_100_uni.append(value[0])\n",
    "    else:\n",
    "        y_axis_200_uni.append(value[0])"
   ]
  },
  {
   "cell_type": "code",
   "execution_count": 13,
   "id": "d56a630c",
   "metadata": {},
   "outputs": [
    {
     "data": {
      "text/plain": [
       "<matplotlib.legend.Legend at 0x7f8daa2bfa00>"
      ]
     },
     "execution_count": 13,
     "metadata": {},
     "output_type": "execute_result"
    },
    {
     "data": {
      "image/png": "[encoded data removed]",
      "text/plain": [
       "<Figure size 432x432 with 1 Axes>"
      ]
     },
     "metadata": {
      "needs_background": "light"
     },
     "output_type": "display_data"
    }
   ],
   "source": [
    "# plotting of relative error for k=100\n",
    "\n",
    "\n",
    "# finding relative error\n",
    "for i in range(len(x_axis)):\n",
    "    y_axis_100_light[i]=abs(y_axis_100_light[i]-cost_full[100][0])/cost_full[100][0]\n",
    "    y_axis_100_uni[i]=abs(y_axis_100_uni[i]-cost_full[100][0])/cost_full[100][0]\n",
    "\n",
    "\n",
    "plt.figure(figsize=(6,6))\n",
    "plt.plot(x_axis, y_axis_100_light, color='green' , marker='o', markersize=10, linestyle='-', linewidth=4, label='LWCS')\n",
    "plt.plot(x_axis, y_axis_100_uni, color='red' , marker='o', markersize=10, linestyle='-', linewidth=4, label='Uniform')\n",
    "plt.grid(True)\n",
    "# here we add the axes labels\n",
    "plt.ylabel('Relative error', size=16, labelpad=10)\n",
    "plt.xlabel('Subsample size', size=16, labelpad=10)\n",
    "# here we add the title\n",
    "plt.title('Product (k=100)', size=20)\n",
    "\n",
    "plt.legend(loc='upper right',prop={'size':10})\n"
   ]
  },
  {
   "cell_type": "code",
   "execution_count": 14,
   "id": "0e613017",
   "metadata": {},
   "outputs": [
    {
     "data": {
      "text/plain": [
       "<matplotlib.legend.Legend at 0x7f8daaa1a580>"
      ]
     },
     "execution_count": 14,
     "metadata": {},
     "output_type": "execute_result"
    },
    {
     "data": {
      "image/png": "[encoded data removed]",
      "text/plain": [
       "<Figure size 432x432 with 1 Axes>"
      ]
     },
     "metadata": {
      "needs_background": "light"
     },
     "output_type": "display_data"
    }
   ],
   "source": [
    "# plotting of relative error for k=250\n",
    "\n",
    "\n",
    "# finding relative error\n",
    "for i in range(len(x_axis)):\n",
    "    y_axis_200_light[i]=abs(y_axis_200_light[i]-cost_full[200][0])/cost_full[200][0]\n",
    "    y_axis_200_uni[i]=abs(y_axis_200_uni[i]-cost_full[200][0])/cost_full[200][0]\n",
    "\n",
    "\n",
    "\n",
    "\n",
    "plt.figure(figsize=(6,6))\n",
    "plt.plot(x_axis, y_axis_200_light, color='green' , marker='o', markersize=10, linestyle='-', linewidth=4, label='LWCS')\n",
    "plt.plot(x_axis, y_axis_200_uni, color='red' , marker='o', markersize=10, linestyle='-', linewidth=4, label='Uniform')\n",
    "plt.grid(True)\n",
    "# here we add the axes labels\n",
    "plt.ylabel('Relative error', size=16, labelpad=10)\n",
    "plt.xlabel('Subsample size', size=16, labelpad=10)\n",
    "# here we add the title\n",
    "plt.title('Product (k=200)', size=20)\n",
    "\n",
    "plt.legend(loc='upper right',prop={'size':10})\n"
   ]
  },
  {
   "cell_type": "code",
   "execution_count": 15,
   "id": "8a16d68c",
   "metadata": {},
   "outputs": [],
   "source": [
    "# plotting speedup for k=100\n",
    "\n",
    "x_axis=[1000,2000,3000,4000,5000]\n",
    "y_axis_100_light=[]\n",
    "y_axis_200_light=[]\n",
    "y_axis_100_uni=[]\n",
    "y_axis_200_uni=[]\n",
    "\n",
    "# finding speedup\n",
    "\n",
    "for key,value in cost_lightweight.items():\n",
    "    if key[0]==100:\n",
    "        y_axis_100_light.append(cost_full[100][1]/value[1])\n",
    "    else:\n",
    "        y_axis_200_light.append(cost_full[200][1]/value[1])\n",
    "\n",
    "for key,value in cost_uniform.items():\n",
    "    if key[0]==100:\n",
    "        y_axis_100_uni.append(cost_full[100][1]/value[1])\n",
    "    else:\n",
    "        y_axis_200_uni.append(cost_full[200][1]/value[1])"
   ]
  },
  {
   "cell_type": "code",
   "execution_count": 16,
   "id": "b966dbe7",
   "metadata": {},
   "outputs": [
    {
     "data": {
      "text/plain": [
       "<matplotlib.legend.Legend at 0x7f8daaa673d0>"
      ]
     },
     "execution_count": 16,
     "metadata": {},
     "output_type": "execute_result"
    },
    {
     "data": {
      "image/png": "[encoded data removed]",
      "text/plain": [
       "<Figure size 432x432 with 1 Axes>"
      ]
     },
     "metadata": {
      "needs_background": "light"
     },
     "output_type": "display_data"
    }
   ],
   "source": [
    "# plotting of speedup for k=100\n",
    "\n",
    "\n",
    "plt.figure(figsize=(6,6))\n",
    "plt.plot(x_axis, y_axis_100_light, color='green' , marker='o', markersize=10, linestyle='-', linewidth=4, label='LWCS')\n",
    "plt.plot(x_axis, y_axis_100_uni, color='red' , marker='o', markersize=10, linestyle='-', linewidth=4, label='Uniform')\n",
    "plt.grid(True)\n",
    "# here we add the axes labels\n",
    "plt.ylabel('speedup', size=16, labelpad=10)\n",
    "plt.xlabel('Subsample size', size=16, labelpad=10)\n",
    "# here we add the title\n",
    "plt.title('product (k=100)', size=20)\n",
    "\n",
    "plt.legend(loc='upper right',prop={'size':10})"
   ]
  },
  {
   "cell_type": "code",
   "execution_count": 17,
   "id": "caaa9929",
   "metadata": {},
   "outputs": [
    {
     "data": {
      "text/plain": [
       "<matplotlib.legend.Legend at 0x7f8dc8b7fb80>"
      ]
     },
     "execution_count": 17,
     "metadata": {},
     "output_type": "execute_result"
    },
    {
     "data": {
      "image/png": "[encoded data removed]",
      "text/plain": [
       "<Figure size 432x432 with 1 Axes>"
      ]
     },
     "metadata": {
      "needs_background": "light"
     },
     "output_type": "display_data"
    }
   ],
   "source": [
    "# plotting of speedup for k=200\n",
    "\n",
    "plt.figure(figsize=(6,6))\n",
    "plt.plot(x_axis, y_axis_200_light, color='green' , marker='o', markersize=10, linestyle='-', linewidth=4, label='LWCS')\n",
    "plt.plot(x_axis, y_axis_200_uni, color='red' , marker='o', markersize=10, linestyle='-', linewidth=4, label='Uniform')\n",
    "plt.grid(True)\n",
    "# here we add the axes labels\n",
    "plt.ylabel('speedup', size=16, labelpad=10)\n",
    "plt.xlabel('Subsample size', size=16, labelpad=10)\n",
    "# here we add the title\n",
    "plt.title('product (k=200)', size=20)\n",
    "\n",
    "plt.legend(loc='upper right',prop={'size':10})"
   ]
  }
 ],
 "metadata": {
  "interpreter": {
   "hash": "2f2701380da7dbc8a9e3e35098c8e4e697441ea02a22787af4e1af41b0c84f23"
  },
  "kernelspec": {
   "display_name": "Python 3.9.7 ('base')",
   "language": "python",
   "name": "python3"
  },
  "language_info": {
   "codemirror_mode": {
    "name": "ipython",
    "version": 3
   },
   "file_extension": ".py",
   "mimetype": "text/x-python",
   "name": "python",
   "nbconvert_exporter": "python",
   "pygments_lexer": "ipython3",
   "version": "3.9.7"
  }
 },
 "nbformat": 4,
 "nbformat_minor": 5
}
